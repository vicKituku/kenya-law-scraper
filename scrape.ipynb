{
 "cells": [
  {
   "cell_type": "code",
   "execution_count": 30,
   "metadata": {},
   "outputs": [],
   "source": [
    "import requests\n",
    "import shutil\n",
    "from bs4 import BeautifulSoup\n",
    "\n",
    "def download_pdf(url, destination):\n",
    "    try:\n",
    "        # Send a GET request to the URL\n",
    "        response = requests.get(url, stream=True)\n",
    "        # Raise an exception for bad status codes\n",
    "        response.raise_for_status()\n",
    "        # Open a local file with write-binary mode\n",
    "        with open(destination, 'wb') as f:\n",
    "            # Iterate over the response content in chunks and write it to the file\n",
    "            for chunk in response.iter_content(chunk_size=8192):\n",
    "                f.write(chunk)\n",
    "        print(\"PDF downloaded successfully!\")\n",
    "    except requests.exceptions.RequestException as e:\n",
    "        print(\"Failed to download PDF:\", e)"
   ]
  },
  {
   "cell_type": "code",
   "execution_count": 32,
   "metadata": {},
   "outputs": [],
   "source": [
    "def generate_name(url):\n",
    "    response = requests.get(url)\n",
    "    soup = BeautifulSoup(response.text, 'html.parser')\n",
    "    file_name = soup.title.get_text()\n",
    "    return file_name"
   ]
  },
  {
   "cell_type": "code",
   "execution_count": 33,
   "metadata": {},
   "outputs": [
    {
     "name": "stdout",
     "output_type": "stream",
     "text": [
      "PDF downloaded successfully!\n"
     ]
    }
   ],
   "source": [
    "pdf_url = \"http://kenyalaw.org/caselaw/caselawreport/?id=264756\"\n",
    "name_url = \"https://kenyalaw.org/caselaw/cases/view/264756/\"\n",
    "file_name = generate_name(name_url)\n",
    "destination = f\"output/{file_name}.pdf\"\n",
    "\n",
    "download_pdf(pdf_url, destination)\n"
   ]
  },
  {
   "cell_type": "code",
   "execution_count": null,
   "metadata": {},
   "outputs": [],
   "source": [
    "i = 0\n",
    "while i > 0:\n",
    "    "
   ]
  }
 ],
 "metadata": {
  "kernelspec": {
   "display_name": "env-klcrawl",
   "language": "python",
   "name": "python3"
  },
  "language_info": {
   "codemirror_mode": {
    "name": "ipython",
    "version": 3
   },
   "file_extension": ".py",
   "mimetype": "text/x-python",
   "name": "python",
   "nbconvert_exporter": "python",
   "pygments_lexer": "ipython3",
   "version": "3.12.2"
  }
 },
 "nbformat": 4,
 "nbformat_minor": 2
}
